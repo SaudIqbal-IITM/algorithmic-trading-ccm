{
 "cells": [
  {
   "cell_type": "markdown",
   "id": "a401aa9c",
   "metadata": {},
   "source": [
    "<h1><center>Basics of Algorithmic Trading</center></h1>"
   ]
  },
  {
   "cell_type": "markdown",
   "id": "fa9e725c",
   "metadata": {},
   "source": [
    "# Logistic Regression for Market Movement Prediction\n",
    "\n",
    "Logistic model (or logit model) is used to model the probability of a certain class or event, such as pass/fail or win/lose. It is the go-to method for binary classification problems (problems with two class values)."
   ]
  },
  {
   "cell_type": "markdown",
   "id": "b630ab30",
   "metadata": {},
   "source": [
    "# Setup"
   ]
  },
  {
   "cell_type": "code",
   "execution_count": 1,
   "id": "5420e1df",
   "metadata": {},
   "outputs": [],
   "source": [
    "import numpy as np\n",
    "\n",
    "import pandas as pd\n",
    "\n",
    "from sklearn import linear_model\n",
    "from sklearn. metrics import accuracy_score\n",
    "\n",
    "import matplotlib.pyplot as plt\n",
    "%matplotlib inline\n",
    "\n",
    "import seaborn as sns\n",
    "sns.set_theme(style=\"darkgrid\")"
   ]
  },
  {
   "cell_type": "markdown",
   "id": "783e1c67",
   "metadata": {},
   "source": [
    "# Read the data from local drive"
   ]
  },
  {
   "cell_type": "code",
   "execution_count": 2,
   "id": "472c30f6",
   "metadata": {},
   "outputs": [
    {
     "name": "stdout",
     "output_type": "stream",
     "text": [
      "<class 'pandas.core.frame.DataFrame'>\n",
      "DatetimeIndex: 1980 entries, 2016-01-01 to 2021-06-02\n",
      "Data columns (total 1 columns):\n",
      " #   Column  Non-Null Count  Dtype  \n",
      "---  ------  --------------  -----  \n",
      " 0   Value   1980 non-null   float64\n",
      "dtypes: float64(1)\n",
      "memory usage: 30.9 KB\n",
      "None\n",
      "--------------------\n",
      "--------------------\n",
      "               Value\n",
      "Date                \n",
      "2021-05-29  35689.62\n",
      "2021-05-30  34647.67\n",
      "2021-05-31  35684.59\n",
      "2021-06-01  37310.54\n",
      "2021-06-02  36662.64\n"
     ]
    }
   ],
   "source": [
    "data = pd.HDFStore('data/BitcoinPriceData.h5', 'r')\n",
    "\n",
    "dataLog = data['BitcoinPriceData']\n",
    "\n",
    "data.close()\n",
    "\n",
    "print(dataLog.info())\n",
    "print('-'*20)\n",
    "print('-'*20)\n",
    "print(dataLog.tail())"
   ]
  },
  {
   "cell_type": "code",
   "execution_count": 3,
   "id": "11131228",
   "metadata": {},
   "outputs": [],
   "source": [
    "dataLog.rename(columns={'Value':'price'}, inplace=True)"
   ]
  },
  {
   "cell_type": "markdown",
   "id": "33ff1b27",
   "metadata": {},
   "source": [
    "# Logistic Regression"
   ]
  },
  {
   "cell_type": "code",
   "execution_count": 4,
   "id": "10c9d027",
   "metadata": {},
   "outputs": [],
   "source": [
    "# Returns (log scale).\n",
    "dataLog['returns'] = np.log(dataLog['price'] / dataLog['price'].shift(1))\n",
    "\n",
    "dataLog.dropna(inplace=True)"
   ]
  },
  {
   "cell_type": "code",
   "execution_count": 5,
   "id": "6a0bc9d0",
   "metadata": {},
   "outputs": [
    {
     "data": {
      "text/html": [
       "<div>\n",
       "<style scoped>\n",
       "    .dataframe tbody tr th:only-of-type {\n",
       "        vertical-align: middle;\n",
       "    }\n",
       "\n",
       "    .dataframe tbody tr th {\n",
       "        vertical-align: top;\n",
       "    }\n",
       "\n",
       "    .dataframe thead th {\n",
       "        text-align: right;\n",
       "    }\n",
       "</style>\n",
       "<table border=\"1\" class=\"dataframe\">\n",
       "  <thead>\n",
       "    <tr style=\"text-align: right;\">\n",
       "      <th></th>\n",
       "      <th>price</th>\n",
       "      <th>returns</th>\n",
       "      <th>lag_1</th>\n",
       "      <th>lag_2</th>\n",
       "      <th>lag_3</th>\n",
       "      <th>lag_4</th>\n",
       "      <th>lag_5</th>\n",
       "      <th>lag_6</th>\n",
       "      <th>lag_7</th>\n",
       "    </tr>\n",
       "    <tr>\n",
       "      <th>Date</th>\n",
       "      <th></th>\n",
       "      <th></th>\n",
       "      <th></th>\n",
       "      <th></th>\n",
       "      <th></th>\n",
       "      <th></th>\n",
       "      <th></th>\n",
       "      <th></th>\n",
       "      <th></th>\n",
       "    </tr>\n",
       "  </thead>\n",
       "  <tbody>\n",
       "    <tr>\n",
       "      <th>2021-05-29</th>\n",
       "      <td>35689.62</td>\n",
       "      <td>-0.074376</td>\n",
       "      <td>-0.021124</td>\n",
       "      <td>0.022029</td>\n",
       "      <td>-0.008247</td>\n",
       "      <td>0.108268</td>\n",
       "      <td>-0.076785</td>\n",
       "      <td>0.006629</td>\n",
       "      <td>-0.089831</td>\n",
       "    </tr>\n",
       "    <tr>\n",
       "      <th>2021-05-30</th>\n",
       "      <td>34647.67</td>\n",
       "      <td>-0.029629</td>\n",
       "      <td>-0.074376</td>\n",
       "      <td>-0.021124</td>\n",
       "      <td>0.022029</td>\n",
       "      <td>-0.008247</td>\n",
       "      <td>0.108268</td>\n",
       "      <td>-0.076785</td>\n",
       "      <td>0.006629</td>\n",
       "    </tr>\n",
       "    <tr>\n",
       "      <th>2021-05-31</th>\n",
       "      <td>35684.59</td>\n",
       "      <td>0.029488</td>\n",
       "      <td>-0.029629</td>\n",
       "      <td>-0.074376</td>\n",
       "      <td>-0.021124</td>\n",
       "      <td>0.022029</td>\n",
       "      <td>-0.008247</td>\n",
       "      <td>0.108268</td>\n",
       "      <td>-0.076785</td>\n",
       "    </tr>\n",
       "    <tr>\n",
       "      <th>2021-06-01</th>\n",
       "      <td>37310.54</td>\n",
       "      <td>0.044557</td>\n",
       "      <td>0.029488</td>\n",
       "      <td>-0.029629</td>\n",
       "      <td>-0.074376</td>\n",
       "      <td>-0.021124</td>\n",
       "      <td>0.022029</td>\n",
       "      <td>-0.008247</td>\n",
       "      <td>0.108268</td>\n",
       "    </tr>\n",
       "    <tr>\n",
       "      <th>2021-06-02</th>\n",
       "      <td>36662.64</td>\n",
       "      <td>-0.017518</td>\n",
       "      <td>0.044557</td>\n",
       "      <td>0.029488</td>\n",
       "      <td>-0.029629</td>\n",
       "      <td>-0.074376</td>\n",
       "      <td>-0.021124</td>\n",
       "      <td>0.022029</td>\n",
       "      <td>-0.008247</td>\n",
       "    </tr>\n",
       "  </tbody>\n",
       "</table>\n",
       "</div>"
      ],
      "text/plain": [
       "               price   returns     lag_1     lag_2     lag_3     lag_4  \\\n",
       "Date                                                                     \n",
       "2021-05-29  35689.62 -0.074376 -0.021124  0.022029 -0.008247  0.108268   \n",
       "2021-05-30  34647.67 -0.029629 -0.074376 -0.021124  0.022029 -0.008247   \n",
       "2021-05-31  35684.59  0.029488 -0.029629 -0.074376 -0.021124  0.022029   \n",
       "2021-06-01  37310.54  0.044557  0.029488 -0.029629 -0.074376 -0.021124   \n",
       "2021-06-02  36662.64 -0.017518  0.044557  0.029488 -0.029629 -0.074376   \n",
       "\n",
       "               lag_5     lag_6     lag_7  \n",
       "Date                                      \n",
       "2021-05-29 -0.076785  0.006629 -0.089831  \n",
       "2021-05-30  0.108268 -0.076785  0.006629  \n",
       "2021-05-31 -0.008247  0.108268 -0.076785  \n",
       "2021-06-01  0.022029 -0.008247  0.108268  \n",
       "2021-06-02 -0.021124  0.022029 -0.008247  "
      ]
     },
     "execution_count": 5,
     "metadata": {},
     "output_type": "execute_result"
    }
   ],
   "source": [
    "# Last 'lags' days returns (log scale).\n",
    "lags = 7\n",
    "\n",
    "cols = [] \n",
    "for lag in range(1, lags + 1): \n",
    "  col = f'lag_{lag}'\n",
    "  dataLog[col] = dataLog['returns'].shift(lag) \n",
    "  cols.append(col)\n",
    "\n",
    "dataLog.dropna(inplace=True)\n",
    "\n",
    "dataLog.tail()"
   ]
  },
  {
   "cell_type": "code",
   "execution_count": 6,
   "id": "878ea14d",
   "metadata": {},
   "outputs": [
    {
     "data": {
      "text/html": [
       "<div>\n",
       "<style scoped>\n",
       "    .dataframe tbody tr th:only-of-type {\n",
       "        vertical-align: middle;\n",
       "    }\n",
       "\n",
       "    .dataframe tbody tr th {\n",
       "        vertical-align: top;\n",
       "    }\n",
       "\n",
       "    .dataframe thead th {\n",
       "        text-align: right;\n",
       "    }\n",
       "</style>\n",
       "<table border=\"1\" class=\"dataframe\">\n",
       "  <thead>\n",
       "    <tr style=\"text-align: right;\">\n",
       "      <th></th>\n",
       "      <th>price</th>\n",
       "      <th>returns</th>\n",
       "      <th>lag_1</th>\n",
       "      <th>lag_2</th>\n",
       "      <th>lag_3</th>\n",
       "      <th>lag_4</th>\n",
       "      <th>lag_5</th>\n",
       "      <th>lag_6</th>\n",
       "      <th>lag_7</th>\n",
       "    </tr>\n",
       "    <tr>\n",
       "      <th>Date</th>\n",
       "      <th></th>\n",
       "      <th></th>\n",
       "      <th></th>\n",
       "      <th></th>\n",
       "      <th></th>\n",
       "      <th></th>\n",
       "      <th></th>\n",
       "      <th></th>\n",
       "      <th></th>\n",
       "    </tr>\n",
       "  </thead>\n",
       "  <tbody>\n",
       "    <tr>\n",
       "      <th>2016-01-09</th>\n",
       "      <td>452.64</td>\n",
       "      <td>0.012449</td>\n",
       "      <td>-0.014810</td>\n",
       "      <td>0.048038</td>\n",
       "      <td>0.001226</td>\n",
       "      <td>-0.002544</td>\n",
       "      <td>0.000554</td>\n",
       "      <td>-0.002723</td>\n",
       "      <td>0.003717</td>\n",
       "    </tr>\n",
       "    <tr>\n",
       "      <th>2016-01-10</th>\n",
       "      <td>446.24</td>\n",
       "      <td>-0.014240</td>\n",
       "      <td>0.012449</td>\n",
       "      <td>-0.014810</td>\n",
       "      <td>0.048038</td>\n",
       "      <td>0.001226</td>\n",
       "      <td>-0.002544</td>\n",
       "      <td>0.000554</td>\n",
       "      <td>-0.002723</td>\n",
       "    </tr>\n",
       "    <tr>\n",
       "      <th>2016-01-11</th>\n",
       "      <td>447.11</td>\n",
       "      <td>0.001948</td>\n",
       "      <td>-0.014240</td>\n",
       "      <td>0.012449</td>\n",
       "      <td>-0.014810</td>\n",
       "      <td>0.048038</td>\n",
       "      <td>0.001226</td>\n",
       "      <td>-0.002544</td>\n",
       "      <td>0.000554</td>\n",
       "    </tr>\n",
       "    <tr>\n",
       "      <th>2016-01-12</th>\n",
       "      <td>447.98</td>\n",
       "      <td>0.001944</td>\n",
       "      <td>0.001948</td>\n",
       "      <td>-0.014240</td>\n",
       "      <td>0.012449</td>\n",
       "      <td>-0.014810</td>\n",
       "      <td>0.048038</td>\n",
       "      <td>0.001226</td>\n",
       "      <td>-0.002544</td>\n",
       "    </tr>\n",
       "    <tr>\n",
       "      <th>2016-01-13</th>\n",
       "      <td>429.57</td>\n",
       "      <td>-0.041964</td>\n",
       "      <td>0.001944</td>\n",
       "      <td>0.001948</td>\n",
       "      <td>-0.014240</td>\n",
       "      <td>0.012449</td>\n",
       "      <td>-0.014810</td>\n",
       "      <td>0.048038</td>\n",
       "      <td>0.001226</td>\n",
       "    </tr>\n",
       "  </tbody>\n",
       "</table>\n",
       "</div>"
      ],
      "text/plain": [
       "             price   returns     lag_1     lag_2     lag_3     lag_4  \\\n",
       "Date                                                                   \n",
       "2016-01-09  452.64  0.012449 -0.014810  0.048038  0.001226 -0.002544   \n",
       "2016-01-10  446.24 -0.014240  0.012449 -0.014810  0.048038  0.001226   \n",
       "2016-01-11  447.11  0.001948 -0.014240  0.012449 -0.014810  0.048038   \n",
       "2016-01-12  447.98  0.001944  0.001948 -0.014240  0.012449 -0.014810   \n",
       "2016-01-13  429.57 -0.041964  0.001944  0.001948 -0.014240  0.012449   \n",
       "\n",
       "               lag_5     lag_6     lag_7  \n",
       "Date                                      \n",
       "2016-01-09  0.000554 -0.002723  0.003717  \n",
       "2016-01-10 -0.002544  0.000554 -0.002723  \n",
       "2016-01-11  0.001226 -0.002544  0.000554  \n",
       "2016-01-12  0.048038  0.001226 -0.002544  \n",
       "2016-01-13 -0.014810  0.048038  0.001226  "
      ]
     },
     "execution_count": 6,
     "metadata": {},
     "output_type": "execute_result"
    }
   ],
   "source": [
    "dataLog.head()"
   ]
  },
  {
   "cell_type": "code",
   "execution_count": 7,
   "id": "c1f1a0e7",
   "metadata": {},
   "outputs": [],
   "source": [
    "# Divide the dataset into training and test dataset.\n",
    "cutoff = '2021-04-01'\n",
    "\n",
    "# Training data.\n",
    "training_data = dataLog[dataLog.index < cutoff].copy()\n",
    "\n",
    "# Test data.\n",
    "test_data = dataLog[dataLog.index >= cutoff].copy()"
   ]
  },
  {
   "cell_type": "code",
   "execution_count": 8,
   "id": "4489db66",
   "metadata": {},
   "outputs": [],
   "source": [
    "# Model.\n",
    "lm = linear_model.LogisticRegression(C = 1e7, \n",
    "                                     solver = 'lbfgs', \n",
    "                                     multi_class = 'auto', \n",
    "                                     max_iter = 1000)"
   ]
  },
  {
   "cell_type": "code",
   "execution_count": 9,
   "id": "70e90c5a",
   "metadata": {},
   "outputs": [
    {
     "data": {
      "text/plain": [
       "LogisticRegression(C=10000000.0, max_iter=1000)"
      ]
     },
     "execution_count": 9,
     "metadata": {},
     "output_type": "execute_result"
    }
   ],
   "source": [
    "# Fit the model.\n",
    "lm.fit(training_data[cols], np.sign(training_data['returns']))"
   ]
  },
  {
   "cell_type": "code",
   "execution_count": 10,
   "id": "3b36bb80",
   "metadata": {},
   "outputs": [],
   "source": [
    "# Predicted preferred position.\n",
    "test_data['prediction'] = lm.predict(test_data[cols])"
   ]
  },
  {
   "cell_type": "code",
   "execution_count": 11,
   "id": "0d9f5a7e",
   "metadata": {},
   "outputs": [
    {
     "data": {
      "text/html": [
       "<div>\n",
       "<style scoped>\n",
       "    .dataframe tbody tr th:only-of-type {\n",
       "        vertical-align: middle;\n",
       "    }\n",
       "\n",
       "    .dataframe tbody tr th {\n",
       "        vertical-align: top;\n",
       "    }\n",
       "\n",
       "    .dataframe thead th {\n",
       "        text-align: right;\n",
       "    }\n",
       "</style>\n",
       "<table border=\"1\" class=\"dataframe\">\n",
       "  <thead>\n",
       "    <tr style=\"text-align: right;\">\n",
       "      <th></th>\n",
       "      <th>price</th>\n",
       "      <th>returns</th>\n",
       "      <th>lag_1</th>\n",
       "      <th>lag_2</th>\n",
       "      <th>lag_3</th>\n",
       "      <th>lag_4</th>\n",
       "      <th>lag_5</th>\n",
       "      <th>lag_6</th>\n",
       "      <th>lag_7</th>\n",
       "      <th>prediction</th>\n",
       "    </tr>\n",
       "    <tr>\n",
       "      <th>Date</th>\n",
       "      <th></th>\n",
       "      <th></th>\n",
       "      <th></th>\n",
       "      <th></th>\n",
       "      <th></th>\n",
       "      <th></th>\n",
       "      <th></th>\n",
       "      <th></th>\n",
       "      <th></th>\n",
       "      <th></th>\n",
       "    </tr>\n",
       "  </thead>\n",
       "  <tbody>\n",
       "    <tr>\n",
       "      <th>2021-04-01</th>\n",
       "      <td>58735.25</td>\n",
       "      <td>0.000087</td>\n",
       "      <td>0.018950</td>\n",
       "      <td>0.032521</td>\n",
       "      <td>-0.001437</td>\n",
       "      <td>0.014233</td>\n",
       "      <td>0.068738</td>\n",
       "      <td>-0.021022</td>\n",
       "      <td>-0.036817</td>\n",
       "      <td>1.0</td>\n",
       "    </tr>\n",
       "    <tr>\n",
       "      <th>2021-04-02</th>\n",
       "      <td>58736.92</td>\n",
       "      <td>0.000028</td>\n",
       "      <td>0.000087</td>\n",
       "      <td>0.018950</td>\n",
       "      <td>0.032521</td>\n",
       "      <td>-0.001437</td>\n",
       "      <td>0.014233</td>\n",
       "      <td>0.068738</td>\n",
       "      <td>-0.021022</td>\n",
       "      <td>1.0</td>\n",
       "    </tr>\n",
       "    <tr>\n",
       "      <th>2021-04-03</th>\n",
       "      <td>59031.32</td>\n",
       "      <td>0.005000</td>\n",
       "      <td>0.000028</td>\n",
       "      <td>0.000087</td>\n",
       "      <td>0.018950</td>\n",
       "      <td>0.032521</td>\n",
       "      <td>-0.001437</td>\n",
       "      <td>0.014233</td>\n",
       "      <td>0.068738</td>\n",
       "      <td>1.0</td>\n",
       "    </tr>\n",
       "    <tr>\n",
       "      <th>2021-04-04</th>\n",
       "      <td>57076.49</td>\n",
       "      <td>-0.033676</td>\n",
       "      <td>0.005000</td>\n",
       "      <td>0.000028</td>\n",
       "      <td>0.000087</td>\n",
       "      <td>0.018950</td>\n",
       "      <td>0.032521</td>\n",
       "      <td>-0.001437</td>\n",
       "      <td>0.014233</td>\n",
       "      <td>1.0</td>\n",
       "    </tr>\n",
       "    <tr>\n",
       "      <th>2021-04-05</th>\n",
       "      <td>58206.55</td>\n",
       "      <td>0.019606</td>\n",
       "      <td>-0.033676</td>\n",
       "      <td>0.005000</td>\n",
       "      <td>0.000028</td>\n",
       "      <td>0.000087</td>\n",
       "      <td>0.018950</td>\n",
       "      <td>0.032521</td>\n",
       "      <td>-0.001437</td>\n",
       "      <td>1.0</td>\n",
       "    </tr>\n",
       "  </tbody>\n",
       "</table>\n",
       "</div>"
      ],
      "text/plain": [
       "               price   returns     lag_1     lag_2     lag_3     lag_4  \\\n",
       "Date                                                                     \n",
       "2021-04-01  58735.25  0.000087  0.018950  0.032521 -0.001437  0.014233   \n",
       "2021-04-02  58736.92  0.000028  0.000087  0.018950  0.032521 -0.001437   \n",
       "2021-04-03  59031.32  0.005000  0.000028  0.000087  0.018950  0.032521   \n",
       "2021-04-04  57076.49 -0.033676  0.005000  0.000028  0.000087  0.018950   \n",
       "2021-04-05  58206.55  0.019606 -0.033676  0.005000  0.000028  0.000087   \n",
       "\n",
       "               lag_5     lag_6     lag_7  prediction  \n",
       "Date                                                  \n",
       "2021-04-01  0.068738 -0.021022 -0.036817         1.0  \n",
       "2021-04-02  0.014233  0.068738 -0.021022         1.0  \n",
       "2021-04-03 -0.001437  0.014233  0.068738         1.0  \n",
       "2021-04-04  0.032521 -0.001437  0.014233         1.0  \n",
       "2021-04-05  0.018950  0.032521 -0.001437         1.0  "
      ]
     },
     "execution_count": 11,
     "metadata": {},
     "output_type": "execute_result"
    }
   ],
   "source": [
    "test_data.head()"
   ]
  },
  {
   "cell_type": "code",
   "execution_count": 12,
   "id": "3294aebf",
   "metadata": {},
   "outputs": [
    {
     "data": {
      "text/plain": [
       "0.5238095238095238"
      ]
     },
     "execution_count": 12,
     "metadata": {},
     "output_type": "execute_result"
    }
   ],
   "source": [
    "# Accuracy.\n",
    "accuracy_score(test_data['prediction'], np.sign(test_data['returns']))"
   ]
  },
  {
   "cell_type": "code",
   "execution_count": 13,
   "id": "2f9c9c46",
   "metadata": {},
   "outputs": [],
   "source": [
    "# Strategy based returns (log scale).\n",
    "test_data['strategy'] = test_data['prediction'] * test_data['returns']"
   ]
  },
  {
   "cell_type": "code",
   "execution_count": 14,
   "id": "15158019",
   "metadata": {},
   "outputs": [
    {
     "data": {
      "text/plain": [
       "returns     0.624256\n",
       "strategy    1.341854\n",
       "dtype: float64"
      ]
     },
     "execution_count": 14,
     "metadata": {},
     "output_type": "execute_result"
    }
   ],
   "source": [
    "# Final returns based on the passive benchmark investment and strategy (regular scale).\n",
    "returns = test_data[['returns', 'strategy']].sum().apply(np.exp)\n",
    "\n",
    "returns"
   ]
  },
  {
   "cell_type": "code",
   "execution_count": 15,
   "id": "f94b3c1f",
   "metadata": {},
   "outputs": [],
   "source": [
    "# Cumulative returns over time based on the passive benchmark investment and strategy (regular scale).\n",
    "gross_performance_lg = test_data[['returns', 'strategy']].cumsum().apply(np.exp) "
   ]
  },
  {
   "cell_type": "code",
   "execution_count": 16,
   "id": "51a13bd6",
   "metadata": {},
   "outputs": [
    {
     "data": {
      "image/png": "[encoded data removed]",
      "text/plain": [
       "<Figure size 1080x720 with 1 Axes>"
      ]
     },
     "metadata": {},
     "output_type": "display_data"
    }
   ],
   "source": [
    "# Plot of cumulative returns based on the passive benchmark investment and strategy over time (regular scale).\n",
    "plt.figure(figsize=(15, 10))\n",
    "ax = sns.lineplot(data=gross_performance_lg, legend=False)\n",
    "ax.legend(['Returns', 'Returns -- Logistic Regression'])\n",
    "plt.show()"
   ]
  },
  {
   "cell_type": "code",
   "execution_count": 17,
   "id": "2b89181e",
   "metadata": {},
   "outputs": [
    {
     "data": {
      "text/plain": [
       "Date\n",
       "2021-05-29    False\n",
       "2021-05-30    False\n",
       "2021-05-31    False\n",
       "2021-06-01    False\n",
       "2021-06-02    False\n",
       "Name: prediction, dtype: bool"
      ]
     },
     "execution_count": 17,
     "metadata": {},
     "output_type": "execute_result"
    }
   ],
   "source": [
    "# Trades executed.\n",
    "trades_lg = test_data['prediction'].diff().fillna(0) != 0\n",
    "\n",
    "trades_lg.tail()"
   ]
  },
  {
   "cell_type": "code",
   "execution_count": 18,
   "id": "a86a4d68",
   "metadata": {},
   "outputs": [],
   "source": [
    "# Amount invested (US$).\n",
    "amount_lg = 10000\n",
    "# Transaction cost (constant) (log scale).\n",
    "transaction_cost_lg = 0.1/100\n",
    "\n",
    "# Subtract the transaction cost.\n",
    "test_data['strategy'][trades_lg] -= transaction_cost_lg \n",
    "\n",
    "# Cumulative returns (US$).\n",
    "test_data['creturns'] = amount_lg * test_data['returns'].cumsum().apply(np.exp)\n",
    "test_data['cstrategy'] = amount_lg * test_data['strategy'].cumsum().apply(np.exp)"
   ]
  },
  {
   "cell_type": "code",
   "execution_count": 19,
   "id": "c860176c",
   "metadata": {},
   "outputs": [
    {
     "data": {
      "image/png": "[encoded data removed]",
      "text/plain": [
       "<Figure size 1080x720 with 1 Axes>"
      ]
     },
     "metadata": {},
     "output_type": "display_data"
    }
   ],
   "source": [
    "# Plot of cumulative returns.\n",
    "plt.figure(figsize=(15, 10))\n",
    "ax = sns.lineplot(data=test_data[['creturns', 'cstrategy']], legend=False)\n",
    "ax.legend(['Returns in US$', 'Returns -- Logistic Regression in US$'])\n",
    "plt.show()"
   ]
  },
  {
   "cell_type": "markdown",
   "id": "eeab7b31",
   "metadata": {},
   "source": [
    "## Summary\n",
    "\n",
    "Applying sophisticated machine learning techniques to stock market prediction often yields promising results early on. In several examples, the strategies backtested outperform the base instrument significantly. But if the model is not updated after regular intervals of time, the performance of the considered strategy “suddenly” trails the base instrument or turns to a net loss."
   ]
  },
  {
   "cell_type": "markdown",
   "id": "85cb5401",
   "metadata": {},
   "source": [
    "### References\n",
    "\n",
    "N/A"
   ]
  }
 ],
 "metadata": {
  "kernelspec": {
   "display_name": "Python 3",
   "language": "python",
   "name": "python3"
  },
  "language_info": {
   "codemirror_mode": {
    "name": "ipython",
    "version": 3
   },
   "file_extension": ".py",
   "mimetype": "text/x-python",
   "name": "python",
   "nbconvert_exporter": "python",
   "pygments_lexer": "ipython3",
   "version": "3.8.3"
  }
 },
 "nbformat": 4,
 "nbformat_minor": 5
}
