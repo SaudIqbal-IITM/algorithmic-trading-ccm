{
 "cells": [
  {
   "cell_type": "markdown",
   "metadata": {},
   "source": [
    "# Performance of Conventional and Non-Conventional Algorithmic Trading Strategies in Cryptocurrency Market"
   ]
  },
  {
   "cell_type": "markdown",
   "metadata": {},
   "source": [
    "# Introduction\n",
    "\n",
    "## What is Algorithmic Trading?\n",
    "\n",
    "<img src=\"../images/intro2.png\" />\n",
    "\n",
    "Algorithmic trading is a method of executing orders using automated pre-programmed trading instructions accounting for variables such as time, price, volume etc.\n",
    "\n",
    "## Why use Algorithmic Trading?\n",
    "\n",
    "This type of trading attempts to leverage the speed and computational resources of computers relative to human traders.\n",
    "\n",
    "<img src=\"../images/intro1.jpg\" />"
   ]
  },
  {
   "cell_type": "markdown",
   "metadata": {
    "id": "ra30xF0b1yqz"
   },
   "source": [
    "> In this notebook, we will cover some of the most fundamental steps one must follow before diving into the world of algorithms for trading."
   ]
  },
  {
   "cell_type": "markdown",
   "metadata": {
    "id": "Fv-BrQjIxhVY"
   },
   "source": [
    "# Setup"
   ]
  },
  {
   "cell_type": "code",
   "execution_count": 1,
   "metadata": {
    "executionInfo": {
     "elapsed": 1339,
     "status": "ok",
     "timestamp": 1622572556669,
     "user": {
      "displayName": "Saud Iqbal",
      "photoUrl": "https://lh3.googleusercontent.com/a-/AOh14Gj659Sy3-6qUycROTL0wJVRa2FKq9HKxOHHNOfw=s64",
      "userId": "11820442103574261455"
     },
     "user_tz": -330
    },
    "id": "5Hm5T7PC4hS3"
   },
   "outputs": [],
   "source": [
    "# Package for scientific computing.\n",
    "import numpy as np \n",
    "\n",
    "# Package for tabular data manipulation and analysis.\n",
    "import pandas as pd\n",
    "\n",
    "from datetime import datetime\n",
    "\n",
    "# Plotting libraries.\n",
    "import matplotlib.pyplot as plt\n",
    "import seaborn as sns\n",
    "sns.set_theme(style=\"darkgrid\")\n",
    "%matplotlib inline"
   ]
  },
  {
   "cell_type": "code",
   "execution_count": 2,
   "metadata": {
    "id": "gmAHfJQPw-Ju"
   },
   "outputs": [],
   "source": [
    "# Import the quandl python package.\n",
    "import quandl"
   ]
  },
  {
   "cell_type": "code",
   "execution_count": 3,
   "metadata": {
    "executionInfo": {
     "elapsed": 355,
     "status": "ok",
     "timestamp": 1622572696873,
     "user": {
      "displayName": "Saud Iqbal",
      "photoUrl": "https://lh3.googleusercontent.com/a-/AOh14Gj659Sy3-6qUycROTL0wJVRa2FKq9HKxOHHNOfw=s64",
      "userId": "11820442103574261455"
     },
     "user_tz": -330
    },
    "id": "fwPgteSkznil"
   },
   "outputs": [],
   "source": [
    "# Getting the API token that is stored in APIKey.py as APIKey.\n",
    "from APIKey import APIKey\n",
    "\n",
    "# Setting the API key for authentication.\n",
    "quandl.ApiConfig.api_key = APIKey"
   ]
  },
  {
   "cell_type": "markdown",
   "metadata": {
    "id": "fXykgrAG5Fq2"
   },
   "source": [
    "# Get the data"
   ]
  },
  {
   "cell_type": "markdown",
   "metadata": {
    "id": "EO40f4Ak4NWT"
   },
   "source": [
    "For this project, we will use one of the most hyped cryptocurrencies of all time --- Bitcoin.\n",
    "\n",
    "<img src='../images/bitcoin.jpg' width=600px />"
   ]
  },
  {
   "cell_type": "code",
   "execution_count": 4,
   "metadata": {
    "executionInfo": {
     "elapsed": 664,
     "status": "ok",
     "timestamp": 1622572705369,
     "user": {
      "displayName": "Saud Iqbal",
      "photoUrl": "https://lh3.googleusercontent.com/a-/AOh14Gj659Sy3-6qUycROTL0wJVRa2FKq9HKxOHHNOfw=s64",
      "userId": "11820442103574261455"
     },
     "user_tz": -330
    },
    "id": "gAjUkfkJynDG"
   },
   "outputs": [],
   "source": [
    "# Set the interval for which you need the data.\n",
    "t_start = '2016-01-01'\n",
    "t_end = datetime.today().strftime('%Y-%m-%d')"
   ]
  },
  {
   "cell_type": "code",
   "execution_count": 5,
   "metadata": {
    "colab": {
     "base_uri": "https://localhost:8080/"
    },
    "executionInfo": {
     "elapsed": 624,
     "status": "ok",
     "timestamp": 1622572708473,
     "user": {
      "displayName": "Saud Iqbal",
      "photoUrl": "https://lh3.googleusercontent.com/a-/AOh14Gj659Sy3-6qUycROTL0wJVRa2FKq9HKxOHHNOfw=s64",
      "userId": "11820442103574261455"
     },
     "user_tz": -330
    },
    "id": "3cukiHzp6EhC",
    "outputId": "9ffa6557-e55b-4cbf-902a-b232395ff7e5"
   },
   "outputs": [
    {
     "name": "stdout",
     "output_type": "stream",
     "text": [
      "<class 'pandas.core.frame.DataFrame'>\n",
      "DatetimeIndex: 1980 entries, 2016-01-01 to 2021-06-02\n",
      "Data columns (total 1 columns):\n",
      " #   Column  Non-Null Count  Dtype  \n",
      "---  ------  --------------  -----  \n",
      " 0   Value   1980 non-null   float64\n",
      "dtypes: float64(1)\n",
      "memory usage: 30.9 KB\n"
     ]
    }
   ],
   "source": [
    "# Get the required data through quandl API.\n",
    "BitcoinPriceData = quandl.get(\"BCHAIN/MKPRU\", start_date=t_start, end_date=t_end)\n",
    "\n",
    "BitcoinPriceData.info()"
   ]
  },
  {
   "cell_type": "code",
   "execution_count": 6,
   "metadata": {
    "colab": {
     "base_uri": "https://localhost:8080/",
     "height": 228
    },
    "executionInfo": {
     "elapsed": 378,
     "status": "ok",
     "timestamp": 1622572719798,
     "user": {
      "displayName": "Saud Iqbal",
      "photoUrl": "https://lh3.googleusercontent.com/a-/AOh14Gj659Sy3-6qUycROTL0wJVRa2FKq9HKxOHHNOfw=s64",
      "userId": "11820442103574261455"
     },
     "user_tz": -330
    },
    "id": "FtLsVlmx6PSa",
    "outputId": "d32f9443-a01f-47b7-91f3-f1ed030a21df"
   },
   "outputs": [
    {
     "data": {
      "text/html": [
       "<div>\n",
       "<style scoped>\n",
       "    .dataframe tbody tr th:only-of-type {\n",
       "        vertical-align: middle;\n",
       "    }\n",
       "\n",
       "    .dataframe tbody tr th {\n",
       "        vertical-align: top;\n",
       "    }\n",
       "\n",
       "    .dataframe thead th {\n",
       "        text-align: right;\n",
       "    }\n",
       "</style>\n",
       "<table border=\"1\" class=\"dataframe\">\n",
       "  <thead>\n",
       "    <tr style=\"text-align: right;\">\n",
       "      <th></th>\n",
       "      <th>Value</th>\n",
       "    </tr>\n",
       "    <tr>\n",
       "      <th>Date</th>\n",
       "      <th></th>\n",
       "    </tr>\n",
       "  </thead>\n",
       "  <tbody>\n",
       "    <tr>\n",
       "      <th>2021-05-29</th>\n",
       "      <td>35689.62</td>\n",
       "    </tr>\n",
       "    <tr>\n",
       "      <th>2021-05-30</th>\n",
       "      <td>34647.67</td>\n",
       "    </tr>\n",
       "    <tr>\n",
       "      <th>2021-05-31</th>\n",
       "      <td>35684.59</td>\n",
       "    </tr>\n",
       "    <tr>\n",
       "      <th>2021-06-01</th>\n",
       "      <td>37310.54</td>\n",
       "    </tr>\n",
       "    <tr>\n",
       "      <th>2021-06-02</th>\n",
       "      <td>36662.64</td>\n",
       "    </tr>\n",
       "  </tbody>\n",
       "</table>\n",
       "</div>"
      ],
      "text/plain": [
       "               Value\n",
       "Date                \n",
       "2021-05-29  35689.62\n",
       "2021-05-30  34647.67\n",
       "2021-05-31  35684.59\n",
       "2021-06-01  37310.54\n",
       "2021-06-02  36662.64"
      ]
     },
     "execution_count": 6,
     "metadata": {},
     "output_type": "execute_result"
    }
   ],
   "source": [
    "BitcoinPriceData.tail()"
   ]
  },
  {
   "cell_type": "code",
   "execution_count": 9,
   "metadata": {
    "colab": {
     "base_uri": "https://localhost:8080/",
     "height": 568
    },
    "executionInfo": {
     "elapsed": 812,
     "status": "ok",
     "timestamp": 1622572722272,
     "user": {
      "displayName": "Saud Iqbal",
      "photoUrl": "https://lh3.googleusercontent.com/a-/AOh14Gj659Sy3-6qUycROTL0wJVRa2FKq9HKxOHHNOfw=s64",
      "userId": "11820442103574261455"
     },
     "user_tz": -330
    },
    "id": "nNkTwKLZ6e0P",
    "outputId": "4b96dfa6-571a-4ea8-901b-f9b6181bbf6c"
   },
   "outputs": [
    {
     "data": {
      "image/png": "[encoded data removed]",
      "text/plain": [
       "<Figure size 1080x720 with 1 Axes>"
      ]
     },
     "metadata": {
      "needs_background": "light"
     },
     "output_type": "display_data"
    }
   ],
   "source": [
    "# Plot the retrieved data.\n",
    "plt.figure(figsize=(15, 10))\n",
    "ax = sns.lineplot(data=BitcoinPriceData, legend=False)\n",
    "ax.set(xlabel='Date', ylabel='Price in US$')\n",
    "plt.show()"
   ]
  },
  {
   "cell_type": "markdown",
   "metadata": {
    "id": "qwZEqYTM7TGP"
   },
   "source": [
    "# Save the data in local drive"
   ]
  },
  {
   "cell_type": "code",
   "execution_count": 10,
   "metadata": {
    "executionInfo": {
     "elapsed": 386,
     "status": "ok",
     "timestamp": 1622572770382,
     "user": {
      "displayName": "Saud Iqbal",
      "photoUrl": "https://lh3.googleusercontent.com/a-/AOh14Gj659Sy3-6qUycROTL0wJVRa2FKq9HKxOHHNOfw=s64",
      "userId": "11820442103574261455"
     },
     "user_tz": -330
    },
    "id": "iC-7Ot6S7IlN"
   },
   "outputs": [],
   "source": [
    "# Saving the data in hdf5 format.\n",
    "data = pd.HDFStore('data/BitcoinPriceData.h5', 'w')\n",
    "\n",
    "data['BitcoinPriceData'] = BitcoinPriceData\n",
    "\n",
    "data.close()"
   ]
  },
  {
   "cell_type": "markdown",
   "metadata": {},
   "source": [
    "### References\n",
    "\n",
    "1. [Algorithmic Trading by _James Chen_](https://www.investopedia.com/terms/a/algorithmictrading.asp#:~:text=Algorithmic%20trading%20is%20a%20process,to%20the%20market%20over%20time.)\n",
    "2. [Basics of Algorithmic Trading by Shobith Seth](https://www.investopedia.com/articles/active-trading/101014/basics-algorithmic-trading-concepts-and-examples.asp)\n",
    "3. [Bitcoin by Jake Frankenfield](https://www.investopedia.com/terms/b/bitcoin.asp)\n",
    "4. [Algorithmic trading](https://en.wikipedia.org/wiki/Algorithmic_trading)\n",
    "5. [Quandl API](https://www.quandl.com/tools/api)"
   ]
  }
 ],
 "metadata": {
  "colab": {
   "authorship_tag": "ABX9TyOC4wGQx+bWgGqpGmcjVrDu",
   "collapsed_sections": [
    "Fv-BrQjIxhVY",
    "fXykgrAG5Fq2",
    "qwZEqYTM7TGP",
    "YzX74-bq8cmi"
   ],
   "mount_file_id": "1nIHvyVgK7MnsMpGo5CDcbf5aIYQ6Kq9Z",
   "name": "00_introduction.ipynb",
   "provenance": []
  },
  "kernelspec": {
   "display_name": "Python 3",
   "language": "python",
   "name": "python3"
  },
  "language_info": {
   "codemirror_mode": {
    "name": "ipython",
    "version": 3
   },
   "file_extension": ".py",
   "mimetype": "text/x-python",
   "name": "python",
   "nbconvert_exporter": "python",
   "pygments_lexer": "ipython3",
   "version": "3.8.3"
  }
 },
 "nbformat": 4,
 "nbformat_minor": 1
}