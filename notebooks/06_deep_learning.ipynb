{
 "cells": [
  {
   "cell_type": "markdown",
   "id": "8dd306f1",
   "metadata": {},
   "source": [
    "# Performance of Conventional and Non-Conventional Algorithmic Trading Strategies in Cryptocurrency Market"
   ]
  },
  {
   "cell_type": "markdown",
   "id": "ff98ffeb",
   "metadata": {},
   "source": [
    "# Deep Learning for Market Movement Prediction\n",
    "\n",
    "Neural networks are state-of-the-art in computer science. They are essentially trainable algorithms. They can find hidden patterns in the available data and can use these patterns to make accurate predictions.\n",
    "\n",
    "In this notebook, we try to predict future market movements using a vanilla deep neural network."
   ]
  },
  {
   "cell_type": "markdown",
   "id": "7c8cae8e",
   "metadata": {},
   "source": [
    "# Setup"
   ]
  },
  {
   "cell_type": "code",
   "execution_count": 1,
   "id": "1fabec9a",
   "metadata": {},
   "outputs": [],
   "source": [
    "import numpy as np\n",
    "\n",
    "import pandas as pd\n",
    "\n",
    "import tensorflow as tf \n",
    "from tensorflow.keras.models import Sequential \n",
    "from tensorflow.keras.layers import Dense \n",
    "from tensorflow.keras.optimizers import Adam, RMSprop\n",
    "\n",
    "import matplotlib.pyplot as plt\n",
    "%matplotlib inline\n",
    "\n",
    "import seaborn as sns\n",
    "sns.set_theme(style=\"darkgrid\")"
   ]
  },
  {
   "cell_type": "markdown",
   "id": "98499f94",
   "metadata": {},
   "source": [
    "# Read the data from local drive"
   ]
  },
  {
   "cell_type": "code",
   "execution_count": 2,
   "id": "af1a7b3e",
   "metadata": {},
   "outputs": [
    {
     "name": "stdout",
     "output_type": "stream",
     "text": [
      "<class 'pandas.core.frame.DataFrame'>\n",
      "DatetimeIndex: 1980 entries, 2016-01-01 to 2021-06-02\n",
      "Data columns (total 1 columns):\n",
      " #   Column  Non-Null Count  Dtype  \n",
      "---  ------  --------------  -----  \n",
      " 0   Value   1980 non-null   float64\n",
      "dtypes: float64(1)\n",
      "memory usage: 30.9 KB\n",
      "None\n",
      "--------------------\n",
      "--------------------\n",
      "               Value\n",
      "Date                \n",
      "2021-05-29  35689.62\n",
      "2021-05-30  34647.67\n",
      "2021-05-31  35684.59\n",
      "2021-06-01  37310.54\n",
      "2021-06-02  36662.64\n"
     ]
    }
   ],
   "source": [
    "data = pd.HDFStore('data/BitcoinPriceData.h5', 'r')\n",
    "\n",
    "dataNN = data['BitcoinPriceData']\n",
    "\n",
    "data.close()\n",
    "\n",
    "print(dataNN.info())\n",
    "print('-'*20)\n",
    "print('-'*20)\n",
    "print(dataNN.tail())"
   ]
  },
  {
   "cell_type": "code",
   "execution_count": 3,
   "id": "ee05d6bd",
   "metadata": {},
   "outputs": [],
   "source": [
    "dataNN.rename(columns={'Value':'price'}, inplace=True)"
   ]
  },
  {
   "cell_type": "markdown",
   "id": "89371f40",
   "metadata": {},
   "source": [
    "# Vanilla Neural Network"
   ]
  },
  {
   "cell_type": "code",
   "execution_count": 4,
   "id": "133badb3",
   "metadata": {},
   "outputs": [],
   "source": [
    "# Returns (log scale).\n",
    "dataNN['returns'] = np.log(dataNN['price'] / dataNN['price'].shift(1))\n",
    "\n",
    "dataNN.dropna(inplace=True)"
   ]
  },
  {
   "cell_type": "code",
   "execution_count": 5,
   "id": "39a7008c",
   "metadata": {},
   "outputs": [],
   "source": [
    "# Preferred position.\n",
    "dataNN['direction'] = np.where(dataNN['returns'] > 0, 1, 0)"
   ]
  },
  {
   "cell_type": "code",
   "execution_count": 6,
   "id": "7df6c21b",
   "metadata": {},
   "outputs": [
    {
     "data": {
      "text/html": [
       "<div>\n",
       "<style scoped>\n",
       "    .dataframe tbody tr th:only-of-type {\n",
       "        vertical-align: middle;\n",
       "    }\n",
       "\n",
       "    .dataframe tbody tr th {\n",
       "        vertical-align: top;\n",
       "    }\n",
       "\n",
       "    .dataframe thead th {\n",
       "        text-align: right;\n",
       "    }\n",
       "</style>\n",
       "<table border=\"1\" class=\"dataframe\">\n",
       "  <thead>\n",
       "    <tr style=\"text-align: right;\">\n",
       "      <th></th>\n",
       "      <th>price</th>\n",
       "      <th>returns</th>\n",
       "      <th>direction</th>\n",
       "      <th>lag_1</th>\n",
       "      <th>lag_2</th>\n",
       "      <th>lag_3</th>\n",
       "      <th>lag_4</th>\n",
       "      <th>lag_5</th>\n",
       "      <th>lag_6</th>\n",
       "      <th>lag_7</th>\n",
       "    </tr>\n",
       "    <tr>\n",
       "      <th>Date</th>\n",
       "      <th></th>\n",
       "      <th></th>\n",
       "      <th></th>\n",
       "      <th></th>\n",
       "      <th></th>\n",
       "      <th></th>\n",
       "      <th></th>\n",
       "      <th></th>\n",
       "      <th></th>\n",
       "      <th></th>\n",
       "    </tr>\n",
       "  </thead>\n",
       "  <tbody>\n",
       "    <tr>\n",
       "      <th>2021-05-29</th>\n",
       "      <td>35689.62</td>\n",
       "      <td>-0.074376</td>\n",
       "      <td>0</td>\n",
       "      <td>-0.021124</td>\n",
       "      <td>0.022029</td>\n",
       "      <td>-0.008247</td>\n",
       "      <td>0.108268</td>\n",
       "      <td>-0.076785</td>\n",
       "      <td>0.006629</td>\n",
       "      <td>-0.089831</td>\n",
       "    </tr>\n",
       "    <tr>\n",
       "      <th>2021-05-30</th>\n",
       "      <td>34647.67</td>\n",
       "      <td>-0.029629</td>\n",
       "      <td>0</td>\n",
       "      <td>-0.074376</td>\n",
       "      <td>-0.021124</td>\n",
       "      <td>0.022029</td>\n",
       "      <td>-0.008247</td>\n",
       "      <td>0.108268</td>\n",
       "      <td>-0.076785</td>\n",
       "      <td>0.006629</td>\n",
       "    </tr>\n",
       "    <tr>\n",
       "      <th>2021-05-31</th>\n",
       "      <td>35684.59</td>\n",
       "      <td>0.029488</td>\n",
       "      <td>1</td>\n",
       "      <td>-0.029629</td>\n",
       "      <td>-0.074376</td>\n",
       "      <td>-0.021124</td>\n",
       "      <td>0.022029</td>\n",
       "      <td>-0.008247</td>\n",
       "      <td>0.108268</td>\n",
       "      <td>-0.076785</td>\n",
       "    </tr>\n",
       "    <tr>\n",
       "      <th>2021-06-01</th>\n",
       "      <td>37310.54</td>\n",
       "      <td>0.044557</td>\n",
       "      <td>1</td>\n",
       "      <td>0.029488</td>\n",
       "      <td>-0.029629</td>\n",
       "      <td>-0.074376</td>\n",
       "      <td>-0.021124</td>\n",
       "      <td>0.022029</td>\n",
       "      <td>-0.008247</td>\n",
       "      <td>0.108268</td>\n",
       "    </tr>\n",
       "    <tr>\n",
       "      <th>2021-06-02</th>\n",
       "      <td>36662.64</td>\n",
       "      <td>-0.017518</td>\n",
       "      <td>0</td>\n",
       "      <td>0.044557</td>\n",
       "      <td>0.029488</td>\n",
       "      <td>-0.029629</td>\n",
       "      <td>-0.074376</td>\n",
       "      <td>-0.021124</td>\n",
       "      <td>0.022029</td>\n",
       "      <td>-0.008247</td>\n",
       "    </tr>\n",
       "  </tbody>\n",
       "</table>\n",
       "</div>"
      ],
      "text/plain": [
       "               price   returns  direction     lag_1     lag_2     lag_3  \\\n",
       "Date                                                                      \n",
       "2021-05-29  35689.62 -0.074376          0 -0.021124  0.022029 -0.008247   \n",
       "2021-05-30  34647.67 -0.029629          0 -0.074376 -0.021124  0.022029   \n",
       "2021-05-31  35684.59  0.029488          1 -0.029629 -0.074376 -0.021124   \n",
       "2021-06-01  37310.54  0.044557          1  0.029488 -0.029629 -0.074376   \n",
       "2021-06-02  36662.64 -0.017518          0  0.044557  0.029488 -0.029629   \n",
       "\n",
       "               lag_4     lag_5     lag_6     lag_7  \n",
       "Date                                                \n",
       "2021-05-29  0.108268 -0.076785  0.006629 -0.089831  \n",
       "2021-05-30 -0.008247  0.108268 -0.076785  0.006629  \n",
       "2021-05-31  0.022029 -0.008247  0.108268 -0.076785  \n",
       "2021-06-01 -0.021124  0.022029 -0.008247  0.108268  \n",
       "2021-06-02 -0.074376 -0.021124  0.022029 -0.008247  "
      ]
     },
     "execution_count": 6,
     "metadata": {},
     "output_type": "execute_result"
    }
   ],
   "source": [
    "# Last 'lags' days returns (log scale).\n",
    "lags = 7\n",
    "\n",
    "cols = []  # List of feature names. \n",
    "for lag in range(1, lags + 1): \n",
    "  col = f'lag_{lag}'\n",
    "  dataNN[col] = dataNN['returns'].shift(lag) \n",
    "  cols.append(col)\n",
    "\n",
    "dataNN.dropna(inplace=True)\n",
    "\n",
    "dataNN.tail()"
   ]
  },
  {
   "cell_type": "code",
   "execution_count": 7,
   "id": "19b58b50",
   "metadata": {},
   "outputs": [
    {
     "data": {
      "text/html": [
       "<div>\n",
       "<style scoped>\n",
       "    .dataframe tbody tr th:only-of-type {\n",
       "        vertical-align: middle;\n",
       "    }\n",
       "\n",
       "    .dataframe tbody tr th {\n",
       "        vertical-align: top;\n",
       "    }\n",
       "\n",
       "    .dataframe thead th {\n",
       "        text-align: right;\n",
       "    }\n",
       "</style>\n",
       "<table border=\"1\" class=\"dataframe\">\n",
       "  <thead>\n",
       "    <tr style=\"text-align: right;\">\n",
       "      <th></th>\n",
       "      <th>price</th>\n",
       "      <th>returns</th>\n",
       "      <th>direction</th>\n",
       "      <th>lag_1</th>\n",
       "      <th>lag_2</th>\n",
       "      <th>lag_3</th>\n",
       "      <th>lag_4</th>\n",
       "      <th>lag_5</th>\n",
       "      <th>lag_6</th>\n",
       "      <th>lag_7</th>\n",
       "      <th>momentum</th>\n",
       "      <th>volatility</th>\n",
       "      <th>distance</th>\n",
       "    </tr>\n",
       "    <tr>\n",
       "      <th>Date</th>\n",
       "      <th></th>\n",
       "      <th></th>\n",
       "      <th></th>\n",
       "      <th></th>\n",
       "      <th></th>\n",
       "      <th></th>\n",
       "      <th></th>\n",
       "      <th></th>\n",
       "      <th></th>\n",
       "      <th></th>\n",
       "      <th></th>\n",
       "      <th></th>\n",
       "      <th></th>\n",
       "    </tr>\n",
       "  </thead>\n",
       "  <tbody>\n",
       "    <tr>\n",
       "      <th>2016-01-30</th>\n",
       "      <td>378.18</td>\n",
       "      <td>0.002436</td>\n",
       "      <td>1</td>\n",
       "      <td>-0.013637</td>\n",
       "      <td>-0.023822</td>\n",
       "      <td>-0.006261</td>\n",
       "      <td>0.017998</td>\n",
       "      <td>0.005180</td>\n",
       "      <td>-0.008816</td>\n",
       "      <td>0.007233</td>\n",
       "      <td>-0.003161</td>\n",
       "      <td>0.044589</td>\n",
       "      <td>-28.463810</td>\n",
       "    </tr>\n",
       "    <tr>\n",
       "      <th>2016-01-31</th>\n",
       "      <td>376.86</td>\n",
       "      <td>-0.003497</td>\n",
       "      <td>0</td>\n",
       "      <td>0.002436</td>\n",
       "      <td>-0.013637</td>\n",
       "      <td>-0.023822</td>\n",
       "      <td>-0.006261</td>\n",
       "      <td>0.017998</td>\n",
       "      <td>0.005180</td>\n",
       "      <td>-0.008816</td>\n",
       "      <td>-0.003846</td>\n",
       "      <td>0.044411</td>\n",
       "      <td>-23.998095</td>\n",
       "    </tr>\n",
       "    <tr>\n",
       "      <th>2016-02-01</th>\n",
       "      <td>372.00</td>\n",
       "      <td>-0.012980</td>\n",
       "      <td>0</td>\n",
       "      <td>-0.003497</td>\n",
       "      <td>0.002436</td>\n",
       "      <td>-0.013637</td>\n",
       "      <td>-0.023822</td>\n",
       "      <td>-0.006261</td>\n",
       "      <td>0.017998</td>\n",
       "      <td>0.005180</td>\n",
       "      <td>-0.003086</td>\n",
       "      <td>0.044405</td>\n",
       "      <td>-22.014286</td>\n",
       "    </tr>\n",
       "    <tr>\n",
       "      <th>2016-02-02</th>\n",
       "      <td>371.99</td>\n",
       "      <td>-0.000027</td>\n",
       "      <td>0</td>\n",
       "      <td>-0.012980</td>\n",
       "      <td>-0.003497</td>\n",
       "      <td>0.002436</td>\n",
       "      <td>-0.013637</td>\n",
       "      <td>-0.023822</td>\n",
       "      <td>-0.006261</td>\n",
       "      <td>0.017998</td>\n",
       "      <td>-0.005680</td>\n",
       "      <td>0.044356</td>\n",
       "      <td>-23.297619</td>\n",
       "    </tr>\n",
       "    <tr>\n",
       "      <th>2016-02-03</th>\n",
       "      <td>368.38</td>\n",
       "      <td>-0.009752</td>\n",
       "      <td>0</td>\n",
       "      <td>-0.000027</td>\n",
       "      <td>-0.012980</td>\n",
       "      <td>-0.003497</td>\n",
       "      <td>0.002436</td>\n",
       "      <td>-0.013637</td>\n",
       "      <td>-0.023822</td>\n",
       "      <td>-0.006261</td>\n",
       "      <td>-0.008255</td>\n",
       "      <td>0.044334</td>\n",
       "      <td>-19.689048</td>\n",
       "    </tr>\n",
       "  </tbody>\n",
       "</table>\n",
       "</div>"
      ],
      "text/plain": [
       "             price   returns  direction     lag_1     lag_2     lag_3  \\\n",
       "Date                                                                    \n",
       "2016-01-30  378.18  0.002436          1 -0.013637 -0.023822 -0.006261   \n",
       "2016-01-31  376.86 -0.003497          0  0.002436 -0.013637 -0.023822   \n",
       "2016-02-01  372.00 -0.012980          0 -0.003497  0.002436 -0.013637   \n",
       "2016-02-02  371.99 -0.000027          0 -0.012980 -0.003497  0.002436   \n",
       "2016-02-03  368.38 -0.009752          0 -0.000027 -0.012980 -0.003497   \n",
       "\n",
       "               lag_4     lag_5     lag_6     lag_7  momentum  volatility  \\\n",
       "Date                                                                       \n",
       "2016-01-30  0.017998  0.005180 -0.008816  0.007233 -0.003161    0.044589   \n",
       "2016-01-31 -0.006261  0.017998  0.005180 -0.008816 -0.003846    0.044411   \n",
       "2016-02-01 -0.023822 -0.006261  0.017998  0.005180 -0.003086    0.044405   \n",
       "2016-02-02 -0.013637 -0.023822 -0.006261  0.017998 -0.005680    0.044356   \n",
       "2016-02-03  0.002436 -0.013637 -0.023822 -0.006261 -0.008255    0.044334   \n",
       "\n",
       "             distance  \n",
       "Date                   \n",
       "2016-01-30 -28.463810  \n",
       "2016-01-31 -23.998095  \n",
       "2016-02-01 -22.014286  \n",
       "2016-02-02 -23.297619  \n",
       "2016-02-03 -19.689048  "
      ]
     },
     "execution_count": 7,
     "metadata": {},
     "output_type": "execute_result"
    }
   ],
   "source": [
    "# Some other useful features.\n",
    "# Momentum measure.\n",
    "dataNN['momentum'] = dataNN['returns'].rolling(7).mean().shift(1)\n",
    "# Volatility measure.\n",
    "dataNN['volatility'] = dataNN['returns'].rolling(21).std().shift(1)\n",
    "# Deviation measure.\n",
    "dataNN['distance'] = (dataNN['price'] - dataNN['price'].rolling(21).mean()).shift(1)\n",
    "\n",
    "dataNN.dropna(inplace=True)\n",
    "\n",
    "dataNN.head()"
   ]
  },
  {
   "cell_type": "code",
   "execution_count": 8,
   "id": "90852ffc",
   "metadata": {},
   "outputs": [],
   "source": [
    "# Update the list of feature names.\n",
    "cols.extend(['momentum', 'volatility', 'distance'])"
   ]
  },
  {
   "cell_type": "code",
   "execution_count": 9,
   "id": "040e661c",
   "metadata": {},
   "outputs": [],
   "source": [
    "def set_seeds(seed=100): \n",
    "  np.random.seed(seed) \n",
    "  tf.random.set_seed(100)\n",
    "\n",
    "# Set the random seed.\n",
    "set_seeds()"
   ]
  },
  {
   "cell_type": "code",
   "execution_count": 10,
   "id": "3f776056",
   "metadata": {},
   "outputs": [],
   "source": [
    "# Divide the dataset into training and test dataset.\n",
    "cutoff = '2021-04-01'\n",
    "\n",
    "# Training data.\n",
    "training_data = dataNN[dataNN.index < cutoff].copy()\n",
    "\n",
    "# Calculate the mean and std of feature values from instances in the training dataset.\n",
    "mu, std = training_data.mean(), training_data.std()\n",
    "\n",
    "# Normalize the training data.\n",
    "training_data_ = (training_data - mu) / std"
   ]
  },
  {
   "cell_type": "code",
   "execution_count": 11,
   "id": "7d98f02f",
   "metadata": {},
   "outputs": [],
   "source": [
    "# Recalculate the preferred position.\n",
    "training_data_['direction'] = np.where(training_data_['returns'] > 0, 1, 0)"
   ]
  },
  {
   "cell_type": "code",
   "execution_count": 12,
   "id": "c85cce5f",
   "metadata": {},
   "outputs": [],
   "source": [
    "# Test data.\n",
    "test_data = dataNN[dataNN.index >= cutoff].copy()\n",
    "\n",
    "# Normalize the test data.\n",
    "test_data_ = (test_data - mu) / std\n",
    "\n",
    "# Recalculate the preferred position.\n",
    "test_data_['direction'] = np.where(test_data_['returns'] > 0, 1, 0)"
   ]
  },
  {
   "cell_type": "code",
   "execution_count": 13,
   "id": "9590418d",
   "metadata": {},
   "outputs": [],
   "source": [
    "# Model architecture.\n",
    "model = Sequential() \n",
    "model.add(Dense(64, activation='elu', kernel_initializer=\"he_normal\", input_shape=(len(cols),)))\n",
    "model.add(Dense(64, activation='elu', kernel_initializer=\"he_normal\")) \n",
    "model.add(Dense(64, activation='elu', kernel_initializer=\"he_normal\"))\n",
    "model.add(Dense(64, activation='elu', kernel_initializer=\"he_normal\"))\n",
    "model.add(Dense(64, activation='elu', kernel_initializer=\"he_normal\"))\n",
    "model.add(Dense(1, activation='sigmoid')) "
   ]
  },
  {
   "cell_type": "code",
   "execution_count": 14,
   "id": "e2e59f0b",
   "metadata": {},
   "outputs": [],
   "source": [
    "# Optimizer.\n",
    "optimizer = Adam(learning_rate = 0.0001)\n",
    "\n",
    "# Build the model.\n",
    "model.compile(optimizer=optimizer, loss='binary_crossentropy', metrics=['accuracy'])"
   ]
  },
  {
   "cell_type": "code",
   "execution_count": 15,
   "id": "ea531c8f",
   "metadata": {},
   "outputs": [],
   "source": [
    "# Early stopping.\n",
    "early_stopping_cb = tf.keras.callbacks.EarlyStopping(patience=20, restore_best_weights=True)"
   ]
  },
  {
   "cell_type": "code",
   "execution_count": 16,
   "id": "6db0a783",
   "metadata": {},
   "outputs": [],
   "source": [
    "# Fraction of training data to be used as validation data.\n",
    "val_split = 0.2\n",
    "\n",
    "# Fit the model.\n",
    "history = model.fit(training_data_[cols], training_data_['direction'], \n",
    "          epochs=200, \n",
    "          validation_split=val_split,\n",
    "          callbacks=[early_stopping_cb],\n",
    "          verbose=False,\n",
    "          shuffle=False)"
   ]
  },
  {
   "cell_type": "code",
   "execution_count": 17,
   "id": "76d5bfab",
   "metadata": {},
   "outputs": [
    {
     "data": {
      "image/png": "[encoded data removed]",
      "text/plain": [
       "<Figure size 720x360 with 1 Axes>"
      ]
     },
     "metadata": {},
     "output_type": "display_data"
    }
   ],
   "source": [
    "# Training characteristics.\n",
    "res = pd.DataFrame(history.history)\n",
    "\n",
    "# Plot the training characteristics.\n",
    "res.plot(figsize=(10, 5), style='--');"
   ]
  },
  {
   "cell_type": "code",
   "execution_count": 18,
   "id": "ae8bdf69",
   "metadata": {},
   "outputs": [
    {
     "name": "stdout",
     "output_type": "stream",
     "text": [
      "2/2 [==============================] - 0s 11ms/step - loss: 0.6877 - accuracy: 0.6349\n"
     ]
    },
    {
     "data": {
      "text/plain": [
       "[0.6876655220985413, 0.6349206566810608]"
      ]
     },
     "execution_count": 18,
     "metadata": {},
     "output_type": "execute_result"
    }
   ],
   "source": [
    "# Evaluate the model on test data.\n",
    "model.evaluate(test_data_[cols], test_data_['direction'])"
   ]
  },
  {
   "cell_type": "code",
   "execution_count": 19,
   "id": "4114a953",
   "metadata": {},
   "outputs": [],
   "source": [
    "# Predicted preferred position.\n",
    "test_data['prediction'] = np.where(model.predict(test_data_[cols]) > 0.5, 1, -1)"
   ]
  },
  {
   "cell_type": "code",
   "execution_count": 20,
   "id": "2e91661c",
   "metadata": {},
   "outputs": [],
   "source": [
    "# Strategy based returns (log scale).\n",
    "test_data['strategy'] = test_data['prediction'] * test_data['returns']"
   ]
  },
  {
   "cell_type": "code",
   "execution_count": 21,
   "id": "4e313061",
   "metadata": {},
   "outputs": [
    {
     "data": {
      "text/plain": [
       "returns     0.624256\n",
       "strategy    2.588650\n",
       "dtype: float64"
      ]
     },
     "execution_count": 21,
     "metadata": {},
     "output_type": "execute_result"
    }
   ],
   "source": [
    "# Final returns based on the passive benchmark investment and strategy (regular scale).\n",
    "returns = test_data[['returns', 'strategy']].sum().apply(np.exp)\n",
    "\n",
    "returns"
   ]
  },
  {
   "cell_type": "code",
   "execution_count": 22,
   "id": "33bc8248",
   "metadata": {},
   "outputs": [],
   "source": [
    "# Cumulative returns over time based on the passive benchmark investment and strategy (regular scale).\n",
    "gross_performance_nn = test_data[['returns', 'strategy']].cumsum().apply(np.exp) "
   ]
  },
  {
   "cell_type": "code",
   "execution_count": 23,
   "id": "396c0dc6",
   "metadata": {},
   "outputs": [
    {
     "data": {
      "image/png": "[encoded data removed]",
      "text/plain": [
       "<Figure size 1080x720 with 1 Axes>"
      ]
     },
     "metadata": {},
     "output_type": "display_data"
    }
   ],
   "source": [
    "# Plot of cumulative returns based on the passive benchmark investment and strategy over time (regular scale).\n",
    "plt.figure(figsize=(15, 10))\n",
    "ax = sns.lineplot(data=gross_performance_nn, legend=False)\n",
    "ax.legend(['Returns', 'Returns -- Vanilla Neural Network'])\n",
    "plt.show()"
   ]
  },
  {
   "cell_type": "markdown",
   "id": "0353f149",
   "metadata": {},
   "source": [
    "## Summary\n",
    "\n",
    "Predicting future market movements is the holy grail in finance. It means overcoming efficient markets. Due to the massive success of trainable algorithms, more and more traders are developing algorithms that rely on deep learning to make themselves more profitable."
   ]
  },
  {
   "cell_type": "markdown",
   "id": "34c47a96",
   "metadata": {},
   "source": [
    "### References\n",
    "\n",
    "N/A"
   ]
  }
 ],
 "metadata": {
  "kernelspec": {
   "display_name": "Python 3",
   "language": "python",
   "name": "python3"
  },
  "language_info": {
   "codemirror_mode": {
    "name": "ipython",
    "version": 3
   },
   "file_extension": ".py",
   "mimetype": "text/x-python",
   "name": "python",
   "nbconvert_exporter": "python",
   "pygments_lexer": "ipython3",
   "version": "3.8.3"
  }
 },
 "nbformat": 4,
 "nbformat_minor": 5
}